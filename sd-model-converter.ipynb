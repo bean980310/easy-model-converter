{
  "cells": [
    {
      "cell_type": "code",
      "execution_count": 6,
      "metadata": {},
      "outputs": [],
      "source": [
        "from sd_model_converter import convert_sd_model, convert_lora, convert_lora_xl"
      ]
    },
    {
      "cell_type": "code",
      "execution_count": null,
      "metadata": {},
      "outputs": [],
      "source": [
        "convert_sd_model(checkpoint_path=\"./models/checkpoints/AnythingXL_xl.safetensors\", dump_path=\"./models/diffusers/anything-xl\", to_safetensors=True)"
      ]
    },
    {
      "cell_type": "code",
      "execution_count": 3,
      "metadata": {},
      "outputs": [],
      "source": [
        "convert_sd_model(checkpoint_path=\"./models/checkpoints/AnythingXL_xl.safetensors\", dump_path=\"./models/diffusers/anything-xl\", to_safetensors=False)"
      ]
    },
    {
      "cell_type": "code",
      "execution_count": null,
      "metadata": {},
      "outputs": [],
      "source": [
        "convert_lora_xl(base_model_path=\"cagliostrolab/animagine-xl-3.1\", checkpoint_path=\"./models/loras/minami-asuka-xl-animagine.safetensors\", dump_path=\"./models/diffusers/loras/minami-asuka-xl-animagine\", to_safetensors=False)"
      ]
    },
    {
      "cell_type": "code",
      "execution_count": null,
      "metadata": {},
      "outputs": [],
      "source": [
        "convert_lora_xl(base_model_path=\"cagliostrolab/animagine-xl-3.1\", checkpoint_path=\"./models/loras/minami-asuka-xl-animagine.safetensors\", dump_path=\"./models/diffusers/loras/minami-asuka-xl-animagine\", to_safetensors=True)"
      ]
    }
  ],
  "metadata": {
    "anaconda-cloud": {},
    "kernelspec": {
      "display_name": "py312",
      "language": "python",
      "name": "python3"
    },
    "language_info": {
      "codemirror_mode": {
        "name": "ipython",
        "version": 3
      },
      "file_extension": ".py",
      "mimetype": "text/x-python",
      "name": "python",
      "nbconvert_exporter": "python",
      "pygments_lexer": "ipython3",
      "version": "3.12.7"
    }
  },
  "nbformat": 4,
  "nbformat_minor": 4
}
